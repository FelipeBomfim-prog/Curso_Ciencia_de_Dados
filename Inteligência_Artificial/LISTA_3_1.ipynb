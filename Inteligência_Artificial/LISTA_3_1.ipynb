git clone https://github.com/usuario/repositorio.git
cd repositorio
mkdir Inteligência-Artificial
echo "Conteúdo do arquivo" > nova-pasta/arquivo.txt
git add nova-pasta/arquivo.txt
git commit -m "Adiciona nova pasta com arquivo"
git push origin main

